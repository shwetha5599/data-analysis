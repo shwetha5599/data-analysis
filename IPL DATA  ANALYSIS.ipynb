{
 "cells": [
  {
   "cell_type": "code",
   "execution_count": 26,
   "id": "7c208cf5",
   "metadata": {},
   "outputs": [],
   "source": [
    "import pandas as pd\n",
    "import numpy as np\n",
    "import matplotlib.pyplot as plt\n",
    "import seaborn as sns"
   ]
  },
  {
   "cell_type": "code",
   "execution_count": 3,
   "id": "b1397ae9",
   "metadata": {},
   "outputs": [],
   "source": [
    "match_data = pd.read_csv(\"C:/Users/shwet/OneDrive/Desktop/ipl dataset/IPL Matches 2008-2020.csv\")\n",
    "ball_data = pd.read_csv(\"C:/Users/shwet/OneDrive/Desktop/ipl dataset/IPL Ball-by-Ball 2008-2020.csv\")"
   ]
  },
  {
   "cell_type": "code",
   "execution_count": 4,
   "id": "fb2dea9b",
   "metadata": {},
   "outputs": [
    {
     "data": {
      "text/html": [
       "<div>\n",
       "<style scoped>\n",
       "    .dataframe tbody tr th:only-of-type {\n",
       "        vertical-align: middle;\n",
       "    }\n",
       "\n",
       "    .dataframe tbody tr th {\n",
       "        vertical-align: top;\n",
       "    }\n",
       "\n",
       "    .dataframe thead th {\n",
       "        text-align: right;\n",
       "    }\n",
       "</style>\n",
       "<table border=\"1\" class=\"dataframe\">\n",
       "  <thead>\n",
       "    <tr style=\"text-align: right;\">\n",
       "      <th></th>\n",
       "      <th>id</th>\n",
       "      <th>city</th>\n",
       "      <th>date</th>\n",
       "      <th>player_of_match</th>\n",
       "      <th>venue</th>\n",
       "      <th>neutral_venue</th>\n",
       "      <th>team1</th>\n",
       "      <th>team2</th>\n",
       "      <th>toss_winner</th>\n",
       "      <th>toss_decision</th>\n",
       "      <th>winner</th>\n",
       "      <th>result</th>\n",
       "      <th>result_margin</th>\n",
       "      <th>eliminator</th>\n",
       "      <th>method</th>\n",
       "      <th>umpire1</th>\n",
       "      <th>umpire2</th>\n",
       "    </tr>\n",
       "  </thead>\n",
       "  <tbody>\n",
       "    <tr>\n",
       "      <th>0</th>\n",
       "      <td>335982</td>\n",
       "      <td>Bangalore</td>\n",
       "      <td>18-04-2008</td>\n",
       "      <td>BB McCullum</td>\n",
       "      <td>M Chinnaswamy Stadium</td>\n",
       "      <td>0</td>\n",
       "      <td>Royal Challengers Bangalore</td>\n",
       "      <td>Kolkata Knight Riders</td>\n",
       "      <td>Royal Challengers Bangalore</td>\n",
       "      <td>field</td>\n",
       "      <td>Kolkata Knight Riders</td>\n",
       "      <td>runs</td>\n",
       "      <td>140.0</td>\n",
       "      <td>N</td>\n",
       "      <td>NaN</td>\n",
       "      <td>Asad Rauf</td>\n",
       "      <td>RE Koertzen</td>\n",
       "    </tr>\n",
       "    <tr>\n",
       "      <th>1</th>\n",
       "      <td>335983</td>\n",
       "      <td>Chandigarh</td>\n",
       "      <td>19-04-2008</td>\n",
       "      <td>MEK Hussey</td>\n",
       "      <td>Punjab Cricket Association Stadium, Mohali</td>\n",
       "      <td>0</td>\n",
       "      <td>Kings XI Punjab</td>\n",
       "      <td>Chennai Super Kings</td>\n",
       "      <td>Chennai Super Kings</td>\n",
       "      <td>bat</td>\n",
       "      <td>Chennai Super Kings</td>\n",
       "      <td>runs</td>\n",
       "      <td>33.0</td>\n",
       "      <td>N</td>\n",
       "      <td>NaN</td>\n",
       "      <td>MR Benson</td>\n",
       "      <td>SL Shastri</td>\n",
       "    </tr>\n",
       "    <tr>\n",
       "      <th>2</th>\n",
       "      <td>335984</td>\n",
       "      <td>Delhi</td>\n",
       "      <td>19-04-2008</td>\n",
       "      <td>MF Maharoof</td>\n",
       "      <td>Feroz Shah Kotla</td>\n",
       "      <td>0</td>\n",
       "      <td>Delhi Daredevils</td>\n",
       "      <td>Rajasthan Royals</td>\n",
       "      <td>Rajasthan Royals</td>\n",
       "      <td>bat</td>\n",
       "      <td>Delhi Daredevils</td>\n",
       "      <td>wickets</td>\n",
       "      <td>9.0</td>\n",
       "      <td>N</td>\n",
       "      <td>NaN</td>\n",
       "      <td>Aleem Dar</td>\n",
       "      <td>GA Pratapkumar</td>\n",
       "    </tr>\n",
       "    <tr>\n",
       "      <th>3</th>\n",
       "      <td>335985</td>\n",
       "      <td>Mumbai</td>\n",
       "      <td>20-04-2008</td>\n",
       "      <td>MV Boucher</td>\n",
       "      <td>Wankhede Stadium</td>\n",
       "      <td>0</td>\n",
       "      <td>Mumbai Indians</td>\n",
       "      <td>Royal Challengers Bangalore</td>\n",
       "      <td>Mumbai Indians</td>\n",
       "      <td>bat</td>\n",
       "      <td>Royal Challengers Bangalore</td>\n",
       "      <td>wickets</td>\n",
       "      <td>5.0</td>\n",
       "      <td>N</td>\n",
       "      <td>NaN</td>\n",
       "      <td>SJ Davis</td>\n",
       "      <td>DJ Harper</td>\n",
       "    </tr>\n",
       "    <tr>\n",
       "      <th>4</th>\n",
       "      <td>335986</td>\n",
       "      <td>Kolkata</td>\n",
       "      <td>20-04-2008</td>\n",
       "      <td>DJ Hussey</td>\n",
       "      <td>Eden Gardens</td>\n",
       "      <td>0</td>\n",
       "      <td>Kolkata Knight Riders</td>\n",
       "      <td>Deccan Chargers</td>\n",
       "      <td>Deccan Chargers</td>\n",
       "      <td>bat</td>\n",
       "      <td>Kolkata Knight Riders</td>\n",
       "      <td>wickets</td>\n",
       "      <td>5.0</td>\n",
       "      <td>N</td>\n",
       "      <td>NaN</td>\n",
       "      <td>BF Bowden</td>\n",
       "      <td>K Hariharan</td>\n",
       "    </tr>\n",
       "  </tbody>\n",
       "</table>\n",
       "</div>"
      ],
      "text/plain": [
       "       id        city        date player_of_match  \\\n",
       "0  335982   Bangalore  18-04-2008     BB McCullum   \n",
       "1  335983  Chandigarh  19-04-2008      MEK Hussey   \n",
       "2  335984       Delhi  19-04-2008     MF Maharoof   \n",
       "3  335985      Mumbai  20-04-2008      MV Boucher   \n",
       "4  335986     Kolkata  20-04-2008       DJ Hussey   \n",
       "\n",
       "                                        venue  neutral_venue  \\\n",
       "0                       M Chinnaswamy Stadium              0   \n",
       "1  Punjab Cricket Association Stadium, Mohali              0   \n",
       "2                            Feroz Shah Kotla              0   \n",
       "3                            Wankhede Stadium              0   \n",
       "4                                Eden Gardens              0   \n",
       "\n",
       "                         team1                        team2  \\\n",
       "0  Royal Challengers Bangalore        Kolkata Knight Riders   \n",
       "1              Kings XI Punjab          Chennai Super Kings   \n",
       "2             Delhi Daredevils             Rajasthan Royals   \n",
       "3               Mumbai Indians  Royal Challengers Bangalore   \n",
       "4        Kolkata Knight Riders              Deccan Chargers   \n",
       "\n",
       "                   toss_winner toss_decision                       winner  \\\n",
       "0  Royal Challengers Bangalore         field        Kolkata Knight Riders   \n",
       "1          Chennai Super Kings           bat          Chennai Super Kings   \n",
       "2             Rajasthan Royals           bat             Delhi Daredevils   \n",
       "3               Mumbai Indians           bat  Royal Challengers Bangalore   \n",
       "4              Deccan Chargers           bat        Kolkata Knight Riders   \n",
       "\n",
       "    result  result_margin eliminator method    umpire1         umpire2  \n",
       "0     runs          140.0          N    NaN  Asad Rauf     RE Koertzen  \n",
       "1     runs           33.0          N    NaN  MR Benson      SL Shastri  \n",
       "2  wickets            9.0          N    NaN  Aleem Dar  GA Pratapkumar  \n",
       "3  wickets            5.0          N    NaN   SJ Davis       DJ Harper  \n",
       "4  wickets            5.0          N    NaN  BF Bowden     K Hariharan  "
      ]
     },
     "execution_count": 4,
     "metadata": {},
     "output_type": "execute_result"
    }
   ],
   "source": [
    "match_data.head()"
   ]
  },
  {
   "cell_type": "code",
   "execution_count": 5,
   "id": "eb00c1c4",
   "metadata": {},
   "outputs": [
    {
     "data": {
      "text/html": [
       "<div>\n",
       "<style scoped>\n",
       "    .dataframe tbody tr th:only-of-type {\n",
       "        vertical-align: middle;\n",
       "    }\n",
       "\n",
       "    .dataframe tbody tr th {\n",
       "        vertical-align: top;\n",
       "    }\n",
       "\n",
       "    .dataframe thead th {\n",
       "        text-align: right;\n",
       "    }\n",
       "</style>\n",
       "<table border=\"1\" class=\"dataframe\">\n",
       "  <thead>\n",
       "    <tr style=\"text-align: right;\">\n",
       "      <th></th>\n",
       "      <th>id</th>\n",
       "      <th>inning</th>\n",
       "      <th>over</th>\n",
       "      <th>ball</th>\n",
       "      <th>batsman</th>\n",
       "      <th>non_striker</th>\n",
       "      <th>bowler</th>\n",
       "      <th>batsman_runs</th>\n",
       "      <th>extra_runs</th>\n",
       "      <th>total_runs</th>\n",
       "      <th>non_boundary</th>\n",
       "      <th>is_wicket</th>\n",
       "      <th>dismissal_kind</th>\n",
       "      <th>player_dismissed</th>\n",
       "      <th>fielder</th>\n",
       "      <th>extras_type</th>\n",
       "      <th>batting_team</th>\n",
       "      <th>bowling_team</th>\n",
       "    </tr>\n",
       "  </thead>\n",
       "  <tbody>\n",
       "    <tr>\n",
       "      <th>0</th>\n",
       "      <td>335982</td>\n",
       "      <td>1</td>\n",
       "      <td>6</td>\n",
       "      <td>5</td>\n",
       "      <td>RT Ponting</td>\n",
       "      <td>BB McCullum</td>\n",
       "      <td>AA Noffke</td>\n",
       "      <td>1</td>\n",
       "      <td>0</td>\n",
       "      <td>1</td>\n",
       "      <td>0</td>\n",
       "      <td>0</td>\n",
       "      <td>NaN</td>\n",
       "      <td>NaN</td>\n",
       "      <td>NaN</td>\n",
       "      <td>NaN</td>\n",
       "      <td>Kolkata Knight Riders</td>\n",
       "      <td>Royal Challengers Bangalore</td>\n",
       "    </tr>\n",
       "    <tr>\n",
       "      <th>1</th>\n",
       "      <td>335982</td>\n",
       "      <td>1</td>\n",
       "      <td>6</td>\n",
       "      <td>6</td>\n",
       "      <td>BB McCullum</td>\n",
       "      <td>RT Ponting</td>\n",
       "      <td>AA Noffke</td>\n",
       "      <td>1</td>\n",
       "      <td>0</td>\n",
       "      <td>1</td>\n",
       "      <td>0</td>\n",
       "      <td>0</td>\n",
       "      <td>NaN</td>\n",
       "      <td>NaN</td>\n",
       "      <td>NaN</td>\n",
       "      <td>NaN</td>\n",
       "      <td>Kolkata Knight Riders</td>\n",
       "      <td>Royal Challengers Bangalore</td>\n",
       "    </tr>\n",
       "    <tr>\n",
       "      <th>2</th>\n",
       "      <td>335982</td>\n",
       "      <td>1</td>\n",
       "      <td>7</td>\n",
       "      <td>1</td>\n",
       "      <td>BB McCullum</td>\n",
       "      <td>RT Ponting</td>\n",
       "      <td>Z Khan</td>\n",
       "      <td>0</td>\n",
       "      <td>0</td>\n",
       "      <td>0</td>\n",
       "      <td>0</td>\n",
       "      <td>0</td>\n",
       "      <td>NaN</td>\n",
       "      <td>NaN</td>\n",
       "      <td>NaN</td>\n",
       "      <td>NaN</td>\n",
       "      <td>Kolkata Knight Riders</td>\n",
       "      <td>Royal Challengers Bangalore</td>\n",
       "    </tr>\n",
       "    <tr>\n",
       "      <th>3</th>\n",
       "      <td>335982</td>\n",
       "      <td>1</td>\n",
       "      <td>7</td>\n",
       "      <td>2</td>\n",
       "      <td>BB McCullum</td>\n",
       "      <td>RT Ponting</td>\n",
       "      <td>Z Khan</td>\n",
       "      <td>1</td>\n",
       "      <td>0</td>\n",
       "      <td>1</td>\n",
       "      <td>0</td>\n",
       "      <td>0</td>\n",
       "      <td>NaN</td>\n",
       "      <td>NaN</td>\n",
       "      <td>NaN</td>\n",
       "      <td>NaN</td>\n",
       "      <td>Kolkata Knight Riders</td>\n",
       "      <td>Royal Challengers Bangalore</td>\n",
       "    </tr>\n",
       "    <tr>\n",
       "      <th>4</th>\n",
       "      <td>335982</td>\n",
       "      <td>1</td>\n",
       "      <td>7</td>\n",
       "      <td>3</td>\n",
       "      <td>RT Ponting</td>\n",
       "      <td>BB McCullum</td>\n",
       "      <td>Z Khan</td>\n",
       "      <td>1</td>\n",
       "      <td>0</td>\n",
       "      <td>1</td>\n",
       "      <td>0</td>\n",
       "      <td>0</td>\n",
       "      <td>NaN</td>\n",
       "      <td>NaN</td>\n",
       "      <td>NaN</td>\n",
       "      <td>NaN</td>\n",
       "      <td>Kolkata Knight Riders</td>\n",
       "      <td>Royal Challengers Bangalore</td>\n",
       "    </tr>\n",
       "  </tbody>\n",
       "</table>\n",
       "</div>"
      ],
      "text/plain": [
       "       id  inning  over  ball      batsman  non_striker     bowler  \\\n",
       "0  335982       1     6     5   RT Ponting  BB McCullum  AA Noffke   \n",
       "1  335982       1     6     6  BB McCullum   RT Ponting  AA Noffke   \n",
       "2  335982       1     7     1  BB McCullum   RT Ponting     Z Khan   \n",
       "3  335982       1     7     2  BB McCullum   RT Ponting     Z Khan   \n",
       "4  335982       1     7     3   RT Ponting  BB McCullum     Z Khan   \n",
       "\n",
       "   batsman_runs  extra_runs  total_runs  non_boundary  is_wicket  \\\n",
       "0             1           0           1             0          0   \n",
       "1             1           0           1             0          0   \n",
       "2             0           0           0             0          0   \n",
       "3             1           0           1             0          0   \n",
       "4             1           0           1             0          0   \n",
       "\n",
       "  dismissal_kind player_dismissed fielder extras_type           batting_team  \\\n",
       "0            NaN              NaN     NaN         NaN  Kolkata Knight Riders   \n",
       "1            NaN              NaN     NaN         NaN  Kolkata Knight Riders   \n",
       "2            NaN              NaN     NaN         NaN  Kolkata Knight Riders   \n",
       "3            NaN              NaN     NaN         NaN  Kolkata Knight Riders   \n",
       "4            NaN              NaN     NaN         NaN  Kolkata Knight Riders   \n",
       "\n",
       "                  bowling_team  \n",
       "0  Royal Challengers Bangalore  \n",
       "1  Royal Challengers Bangalore  \n",
       "2  Royal Challengers Bangalore  \n",
       "3  Royal Challengers Bangalore  \n",
       "4  Royal Challengers Bangalore  "
      ]
     },
     "execution_count": 5,
     "metadata": {},
     "output_type": "execute_result"
    }
   ],
   "source": [
    "ball_data.head()"
   ]
  },
  {
   "cell_type": "code",
   "execution_count": 6,
   "id": "3b83a5ab",
   "metadata": {},
   "outputs": [
    {
     "data": {
      "text/plain": [
       "(816, 17)"
      ]
     },
     "execution_count": 6,
     "metadata": {},
     "output_type": "execute_result"
    }
   ],
   "source": [
    "match_data.shape"
   ]
  },
  {
   "cell_type": "code",
   "execution_count": 7,
   "id": "2b84f717",
   "metadata": {},
   "outputs": [
    {
     "data": {
      "text/plain": [
       "(193468, 18)"
      ]
     },
     "execution_count": 7,
     "metadata": {},
     "output_type": "execute_result"
    }
   ],
   "source": [
    "ball_data.shape"
   ]
  },
  {
   "cell_type": "code",
   "execution_count": 9,
   "id": "437b570f",
   "metadata": {},
   "outputs": [
    {
     "data": {
      "text/plain": [
       "id                   0\n",
       "city                13\n",
       "date                 0\n",
       "player_of_match      4\n",
       "venue                0\n",
       "neutral_venue        0\n",
       "team1                0\n",
       "team2                0\n",
       "toss_winner          0\n",
       "toss_decision        0\n",
       "winner               4\n",
       "result               4\n",
       "result_margin       17\n",
       "eliminator           4\n",
       "method             797\n",
       "umpire1              0\n",
       "umpire2              0\n",
       "dtype: int64"
      ]
     },
     "execution_count": 9,
     "metadata": {},
     "output_type": "execute_result"
    }
   ],
   "source": [
    "match_data.isnull().sum()"
   ]
  },
  {
   "cell_type": "code",
   "execution_count": 10,
   "id": "d06b5edf",
   "metadata": {},
   "outputs": [
    {
     "data": {
      "text/plain": [
       "id                       0\n",
       "inning                   0\n",
       "over                     0\n",
       "ball                     0\n",
       "batsman                  0\n",
       "non_striker              0\n",
       "bowler                   0\n",
       "batsman_runs             0\n",
       "extra_runs               0\n",
       "total_runs               0\n",
       "non_boundary             0\n",
       "is_wicket                0\n",
       "dismissal_kind      183973\n",
       "player_dismissed    183973\n",
       "fielder             186684\n",
       "extras_type         183235\n",
       "batting_team             0\n",
       "bowling_team           191\n",
       "dtype: int64"
      ]
     },
     "execution_count": 10,
     "metadata": {},
     "output_type": "execute_result"
    }
   ],
   "source": [
    "ball_data.isnull().sum()"
   ]
  },
  {
   "cell_type": "code",
   "execution_count": 11,
   "id": "fce69ea6",
   "metadata": {},
   "outputs": [
    {
     "data": {
      "text/plain": [
       "Index(['id', 'city', 'date', 'player_of_match', 'venue', 'neutral_venue',\n",
       "       'team1', 'team2', 'toss_winner', 'toss_decision', 'winner', 'result',\n",
       "       'result_margin', 'eliminator', 'method', 'umpire1', 'umpire2'],\n",
       "      dtype='object')"
      ]
     },
     "execution_count": 11,
     "metadata": {},
     "output_type": "execute_result"
    }
   ],
   "source": [
    "match_data.columns"
   ]
  },
  {
   "cell_type": "code",
   "execution_count": 12,
   "id": "f983c19d",
   "metadata": {},
   "outputs": [
    {
     "data": {
      "text/plain": [
       "Index(['id', 'inning', 'over', 'ball', 'batsman', 'non_striker', 'bowler',\n",
       "       'batsman_runs', 'extra_runs', 'total_runs', 'non_boundary', 'is_wicket',\n",
       "       'dismissal_kind', 'player_dismissed', 'fielder', 'extras_type',\n",
       "       'batting_team', 'bowling_team'],\n",
       "      dtype='object')"
      ]
     },
     "execution_count": 12,
     "metadata": {},
     "output_type": "execute_result"
    }
   ],
   "source": [
    "ball_data.columns"
   ]
  },
  {
   "cell_type": "code",
   "execution_count": 15,
   "id": "4375e998",
   "metadata": {},
   "outputs": [
    {
     "name": "stdout",
     "output_type": "stream",
     "text": [
      "match played so far: 816\n",
      "\n",
      " cities played at: ['Bangalore' 'Chandigarh' 'Delhi' 'Mumbai' 'Kolkata' 'Jaipur' 'Hyderabad'\n",
      " 'Chennai' 'Cape Town' 'Port Elizabeth' 'Durban' 'Centurion' 'East London'\n",
      " 'Johannesburg' 'Kimberley' 'Bloemfontein' 'Ahmedabad' 'Cuttack' 'Nagpur'\n",
      " 'Dharamsala' 'Kochi' 'Indore' 'Visakhapatnam' 'Pune' 'Raipur' 'Ranchi'\n",
      " 'Abu Dhabi' nan 'Rajkot' 'Kanpur' 'Bengaluru' 'Dubai' 'Sharjah']\n",
      "\n",
      " teams participated: ['Royal Challengers Bangalore' 'Kings XI Punjab' 'Delhi Daredevils'\n",
      " 'Mumbai Indians' 'Kolkata Knight Riders' 'Rajasthan Royals'\n",
      " 'Deccan Chargers' 'Chennai Super Kings' 'Kochi Tuskers Kerala'\n",
      " 'Pune Warriors' 'Sunrisers Hyderabad' 'Gujarat Lions'\n",
      " 'Rising Pune Supergiants' 'Rising Pune Supergiant' 'Delhi Capitals']\n"
     ]
    }
   ],
   "source": [
    "print('match played so far:',match_data.shape[0])\n",
    "print('\\n cities played at:',match_data['city'].unique())\n",
    "print('\\n teams participated:',match_data['team1'].unique())"
   ]
  },
  {
   "cell_type": "code",
   "execution_count": 18,
   "id": "2db593d2",
   "metadata": {},
   "outputs": [
    {
     "data": {
      "text/html": [
       "<div>\n",
       "<style scoped>\n",
       "    .dataframe tbody tr th:only-of-type {\n",
       "        vertical-align: middle;\n",
       "    }\n",
       "\n",
       "    .dataframe tbody tr th {\n",
       "        vertical-align: top;\n",
       "    }\n",
       "\n",
       "    .dataframe thead th {\n",
       "        text-align: right;\n",
       "    }\n",
       "</style>\n",
       "<table border=\"1\" class=\"dataframe\">\n",
       "  <thead>\n",
       "    <tr style=\"text-align: right;\">\n",
       "      <th></th>\n",
       "      <th>id</th>\n",
       "      <th>city</th>\n",
       "      <th>date</th>\n",
       "      <th>player_of_match</th>\n",
       "      <th>venue</th>\n",
       "      <th>neutral_venue</th>\n",
       "      <th>team1</th>\n",
       "      <th>team2</th>\n",
       "      <th>toss_winner</th>\n",
       "      <th>toss_decision</th>\n",
       "      <th>winner</th>\n",
       "      <th>result</th>\n",
       "      <th>result_margin</th>\n",
       "      <th>eliminator</th>\n",
       "      <th>method</th>\n",
       "      <th>umpire1</th>\n",
       "      <th>umpire2</th>\n",
       "      <th>season</th>\n",
       "    </tr>\n",
       "  </thead>\n",
       "  <tbody>\n",
       "    <tr>\n",
       "      <th>0</th>\n",
       "      <td>335982</td>\n",
       "      <td>Bangalore</td>\n",
       "      <td>18-04-2008</td>\n",
       "      <td>BB McCullum</td>\n",
       "      <td>M Chinnaswamy Stadium</td>\n",
       "      <td>0</td>\n",
       "      <td>Royal Challengers Bangalore</td>\n",
       "      <td>Kolkata Knight Riders</td>\n",
       "      <td>Royal Challengers Bangalore</td>\n",
       "      <td>field</td>\n",
       "      <td>Kolkata Knight Riders</td>\n",
       "      <td>runs</td>\n",
       "      <td>140.0</td>\n",
       "      <td>N</td>\n",
       "      <td>NaN</td>\n",
       "      <td>Asad Rauf</td>\n",
       "      <td>RE Koertzen</td>\n",
       "      <td>2008</td>\n",
       "    </tr>\n",
       "    <tr>\n",
       "      <th>1</th>\n",
       "      <td>335983</td>\n",
       "      <td>Chandigarh</td>\n",
       "      <td>19-04-2008</td>\n",
       "      <td>MEK Hussey</td>\n",
       "      <td>Punjab Cricket Association Stadium, Mohali</td>\n",
       "      <td>0</td>\n",
       "      <td>Kings XI Punjab</td>\n",
       "      <td>Chennai Super Kings</td>\n",
       "      <td>Chennai Super Kings</td>\n",
       "      <td>bat</td>\n",
       "      <td>Chennai Super Kings</td>\n",
       "      <td>runs</td>\n",
       "      <td>33.0</td>\n",
       "      <td>N</td>\n",
       "      <td>NaN</td>\n",
       "      <td>MR Benson</td>\n",
       "      <td>SL Shastri</td>\n",
       "      <td>2008</td>\n",
       "    </tr>\n",
       "    <tr>\n",
       "      <th>2</th>\n",
       "      <td>335984</td>\n",
       "      <td>Delhi</td>\n",
       "      <td>19-04-2008</td>\n",
       "      <td>MF Maharoof</td>\n",
       "      <td>Feroz Shah Kotla</td>\n",
       "      <td>0</td>\n",
       "      <td>Delhi Daredevils</td>\n",
       "      <td>Rajasthan Royals</td>\n",
       "      <td>Rajasthan Royals</td>\n",
       "      <td>bat</td>\n",
       "      <td>Delhi Daredevils</td>\n",
       "      <td>wickets</td>\n",
       "      <td>9.0</td>\n",
       "      <td>N</td>\n",
       "      <td>NaN</td>\n",
       "      <td>Aleem Dar</td>\n",
       "      <td>GA Pratapkumar</td>\n",
       "      <td>2008</td>\n",
       "    </tr>\n",
       "    <tr>\n",
       "      <th>3</th>\n",
       "      <td>335985</td>\n",
       "      <td>Mumbai</td>\n",
       "      <td>20-04-2008</td>\n",
       "      <td>MV Boucher</td>\n",
       "      <td>Wankhede Stadium</td>\n",
       "      <td>0</td>\n",
       "      <td>Mumbai Indians</td>\n",
       "      <td>Royal Challengers Bangalore</td>\n",
       "      <td>Mumbai Indians</td>\n",
       "      <td>bat</td>\n",
       "      <td>Royal Challengers Bangalore</td>\n",
       "      <td>wickets</td>\n",
       "      <td>5.0</td>\n",
       "      <td>N</td>\n",
       "      <td>NaN</td>\n",
       "      <td>SJ Davis</td>\n",
       "      <td>DJ Harper</td>\n",
       "      <td>2008</td>\n",
       "    </tr>\n",
       "    <tr>\n",
       "      <th>4</th>\n",
       "      <td>335986</td>\n",
       "      <td>Kolkata</td>\n",
       "      <td>20-04-2008</td>\n",
       "      <td>DJ Hussey</td>\n",
       "      <td>Eden Gardens</td>\n",
       "      <td>0</td>\n",
       "      <td>Kolkata Knight Riders</td>\n",
       "      <td>Deccan Chargers</td>\n",
       "      <td>Deccan Chargers</td>\n",
       "      <td>bat</td>\n",
       "      <td>Kolkata Knight Riders</td>\n",
       "      <td>wickets</td>\n",
       "      <td>5.0</td>\n",
       "      <td>N</td>\n",
       "      <td>NaN</td>\n",
       "      <td>BF Bowden</td>\n",
       "      <td>K Hariharan</td>\n",
       "      <td>2008</td>\n",
       "    </tr>\n",
       "  </tbody>\n",
       "</table>\n",
       "</div>"
      ],
      "text/plain": [
       "       id        city        date player_of_match  \\\n",
       "0  335982   Bangalore  18-04-2008     BB McCullum   \n",
       "1  335983  Chandigarh  19-04-2008      MEK Hussey   \n",
       "2  335984       Delhi  19-04-2008     MF Maharoof   \n",
       "3  335985      Mumbai  20-04-2008      MV Boucher   \n",
       "4  335986     Kolkata  20-04-2008       DJ Hussey   \n",
       "\n",
       "                                        venue  neutral_venue  \\\n",
       "0                       M Chinnaswamy Stadium              0   \n",
       "1  Punjab Cricket Association Stadium, Mohali              0   \n",
       "2                            Feroz Shah Kotla              0   \n",
       "3                            Wankhede Stadium              0   \n",
       "4                                Eden Gardens              0   \n",
       "\n",
       "                         team1                        team2  \\\n",
       "0  Royal Challengers Bangalore        Kolkata Knight Riders   \n",
       "1              Kings XI Punjab          Chennai Super Kings   \n",
       "2             Delhi Daredevils             Rajasthan Royals   \n",
       "3               Mumbai Indians  Royal Challengers Bangalore   \n",
       "4        Kolkata Knight Riders              Deccan Chargers   \n",
       "\n",
       "                   toss_winner toss_decision                       winner  \\\n",
       "0  Royal Challengers Bangalore         field        Kolkata Knight Riders   \n",
       "1          Chennai Super Kings           bat          Chennai Super Kings   \n",
       "2             Rajasthan Royals           bat             Delhi Daredevils   \n",
       "3               Mumbai Indians           bat  Royal Challengers Bangalore   \n",
       "4              Deccan Chargers           bat        Kolkata Knight Riders   \n",
       "\n",
       "    result  result_margin eliminator method    umpire1         umpire2  season  \n",
       "0     runs          140.0          N    NaN  Asad Rauf     RE Koertzen    2008  \n",
       "1     runs           33.0          N    NaN  MR Benson      SL Shastri    2008  \n",
       "2  wickets            9.0          N    NaN  Aleem Dar  GA Pratapkumar    2008  \n",
       "3  wickets            5.0          N    NaN   SJ Davis       DJ Harper    2008  \n",
       "4  wickets            5.0          N    NaN  BF Bowden     K Hariharan    2008  "
      ]
     },
     "execution_count": 18,
     "metadata": {},
     "output_type": "execute_result"
    }
   ],
   "source": [
    "match_data['season'] = pd.DatetimeIndex(match_data['date']).year\n",
    "match_data.head()"
   ]
  },
  {
   "cell_type": "code",
   "execution_count": 19,
   "id": "74d704f0",
   "metadata": {},
   "outputs": [
    {
     "data": {
      "text/html": [
       "<div>\n",
       "<style scoped>\n",
       "    .dataframe tbody tr th:only-of-type {\n",
       "        vertical-align: middle;\n",
       "    }\n",
       "\n",
       "    .dataframe tbody tr th {\n",
       "        vertical-align: top;\n",
       "    }\n",
       "\n",
       "    .dataframe thead th {\n",
       "        text-align: right;\n",
       "    }\n",
       "</style>\n",
       "<table border=\"1\" class=\"dataframe\">\n",
       "  <thead>\n",
       "    <tr style=\"text-align: right;\">\n",
       "      <th></th>\n",
       "      <th>season</th>\n",
       "      <th>matches</th>\n",
       "    </tr>\n",
       "  </thead>\n",
       "  <tbody>\n",
       "    <tr>\n",
       "      <th>0</th>\n",
       "      <td>2008</td>\n",
       "      <td>58</td>\n",
       "    </tr>\n",
       "    <tr>\n",
       "      <th>1</th>\n",
       "      <td>2009</td>\n",
       "      <td>57</td>\n",
       "    </tr>\n",
       "    <tr>\n",
       "      <th>2</th>\n",
       "      <td>2010</td>\n",
       "      <td>60</td>\n",
       "    </tr>\n",
       "    <tr>\n",
       "      <th>3</th>\n",
       "      <td>2011</td>\n",
       "      <td>73</td>\n",
       "    </tr>\n",
       "    <tr>\n",
       "      <th>4</th>\n",
       "      <td>2012</td>\n",
       "      <td>74</td>\n",
       "    </tr>\n",
       "    <tr>\n",
       "      <th>5</th>\n",
       "      <td>2013</td>\n",
       "      <td>76</td>\n",
       "    </tr>\n",
       "    <tr>\n",
       "      <th>6</th>\n",
       "      <td>2014</td>\n",
       "      <td>60</td>\n",
       "    </tr>\n",
       "    <tr>\n",
       "      <th>7</th>\n",
       "      <td>2015</td>\n",
       "      <td>59</td>\n",
       "    </tr>\n",
       "    <tr>\n",
       "      <th>8</th>\n",
       "      <td>2016</td>\n",
       "      <td>60</td>\n",
       "    </tr>\n",
       "    <tr>\n",
       "      <th>9</th>\n",
       "      <td>2017</td>\n",
       "      <td>59</td>\n",
       "    </tr>\n",
       "    <tr>\n",
       "      <th>10</th>\n",
       "      <td>2018</td>\n",
       "      <td>60</td>\n",
       "    </tr>\n",
       "    <tr>\n",
       "      <th>11</th>\n",
       "      <td>2019</td>\n",
       "      <td>60</td>\n",
       "    </tr>\n",
       "    <tr>\n",
       "      <th>12</th>\n",
       "      <td>2020</td>\n",
       "      <td>60</td>\n",
       "    </tr>\n",
       "  </tbody>\n",
       "</table>\n",
       "</div>"
      ],
      "text/plain": [
       "    season  matches\n",
       "0     2008       58\n",
       "1     2009       57\n",
       "2     2010       60\n",
       "3     2011       73\n",
       "4     2012       74\n",
       "5     2013       76\n",
       "6     2014       60\n",
       "7     2015       59\n",
       "8     2016       60\n",
       "9     2017       59\n",
       "10    2018       60\n",
       "11    2019       60\n",
       "12    2020       60"
      ]
     },
     "execution_count": 19,
     "metadata": {},
     "output_type": "execute_result"
    }
   ],
   "source": [
    "match_per_season = match_data.groupby(['season'])['id'].count().reset_index().rename(columns={'id':'matches'})\n",
    "match_per_season"
   ]
  },
  {
   "cell_type": "code",
   "execution_count": 29,
   "id": "b7db9a5c",
   "metadata": {},
   "outputs": [
    {
     "name": "stderr",
     "output_type": "stream",
     "text": [
      "C:\\Users\\shwet\\anaconda3\\lib\\site-packages\\seaborn\\_decorators.py:36: FutureWarning: Pass the following variable as a keyword arg: x. From version 0.12, the only valid positional argument will be `data`, and passing other arguments without an explicit keyword will result in an error or misinterpretation.\n",
      "  warnings.warn(\n"
     ]
    },
    {
     "data": {
      "text/plain": [
       "Text(0.5, 1.0, 'Total matches played in each season')"
      ]
     },
     "execution_count": 29,
     "metadata": {},
     "output_type": "execute_result"
    },
    {
     "data": {
      "image/png": "[encoded data removed]",
      "text/plain": [
       "<Figure size 432x288 with 1 Axes>"
      ]
     },
     "metadata": {
      "needs_background": "light"
     },
     "output_type": "display_data"
    }
   ],
   "source": [
    "sns.countplot(match_data['season'])\n",
    "plt.xticks(rotation=45, fontsize=10)\n",
    "plt.yticks(fontsize=10)\n",
    "plt.xlabel('season', fontsize=10)\n",
    "plt.ylabel('count', fontsize=10)\n",
    "plt.title('Total matches played in each season', fontsize = 10, fontweight = \"bold\")"
   ]
  },
  {
   "cell_type": "code",
   "execution_count": 83,
   "id": "ca4a7a90",
   "metadata": {},
   "outputs": [
    {
     "ename": "KeyError",
     "evalue": "'runs=0'",
     "output_type": "error",
     "traceback": [
      "\u001b[1;31m---------------------------------------------------------------------------\u001b[0m",
      "\u001b[1;31mKeyError\u001b[0m                                  Traceback (most recent call last)",
      "\u001b[1;32m~\\anaconda3\\lib\\site-packages\\pandas\\core\\indexes\\base.py\u001b[0m in \u001b[0;36mget_loc\u001b[1;34m(self, key, method, tolerance)\u001b[0m\n\u001b[0;32m   3079\u001b[0m             \u001b[1;32mtry\u001b[0m\u001b[1;33m:\u001b[0m\u001b[1;33m\u001b[0m\u001b[1;33m\u001b[0m\u001b[0m\n\u001b[1;32m-> 3080\u001b[1;33m                 \u001b[1;32mreturn\u001b[0m \u001b[0mself\u001b[0m\u001b[1;33m.\u001b[0m\u001b[0m_engine\u001b[0m\u001b[1;33m.\u001b[0m\u001b[0mget_loc\u001b[0m\u001b[1;33m(\u001b[0m\u001b[0mcasted_key\u001b[0m\u001b[1;33m)\u001b[0m\u001b[1;33m\u001b[0m\u001b[1;33m\u001b[0m\u001b[0m\n\u001b[0m\u001b[0;32m   3081\u001b[0m             \u001b[1;32mexcept\u001b[0m \u001b[0mKeyError\u001b[0m \u001b[1;32mas\u001b[0m \u001b[0merr\u001b[0m\u001b[1;33m:\u001b[0m\u001b[1;33m\u001b[0m\u001b[1;33m\u001b[0m\u001b[0m\n",
      "\u001b[1;32mpandas\\_libs\\index.pyx\u001b[0m in \u001b[0;36mpandas._libs.index.IndexEngine.get_loc\u001b[1;34m()\u001b[0m\n",
      "\u001b[1;32mpandas\\_libs\\index.pyx\u001b[0m in \u001b[0;36mpandas._libs.index.IndexEngine.get_loc\u001b[1;34m()\u001b[0m\n",
      "\u001b[1;32mpandas\\_libs\\hashtable_class_helper.pxi\u001b[0m in \u001b[0;36mpandas._libs.hashtable.PyObjectHashTable.get_item\u001b[1;34m()\u001b[0m\n",
      "\u001b[1;32mpandas\\_libs\\hashtable_class_helper.pxi\u001b[0m in \u001b[0;36mpandas._libs.hashtable.PyObjectHashTable.get_item\u001b[1;34m()\u001b[0m\n",
      "\u001b[1;31mKeyError\u001b[0m: 'runs=0'",
      "\nThe above exception was the direct cause of the following exception:\n",
      "\u001b[1;31mKeyError\u001b[0m                                  Traceback (most recent call last)",
      "\u001b[1;32m<ipython-input-83-778f1a9e86bc>\u001b[0m in \u001b[0;36m<module>\u001b[1;34m\u001b[0m\n\u001b[1;32m----> 1\u001b[1;33m \u001b[0mball_data\u001b[0m\u001b[1;33m[\u001b[0m\u001b[1;34m'runs=0'\u001b[0m\u001b[1;33m]\u001b[0m\u001b[1;33m.\u001b[0m\u001b[0mvalue_counts\u001b[0m\u001b[1;33m(\u001b[0m\u001b[1;33m)\u001b[0m\u001b[1;33m\u001b[0m\u001b[1;33m\u001b[0m\u001b[0m\n\u001b[0m",
      "\u001b[1;32m~\\anaconda3\\lib\\site-packages\\pandas\\core\\frame.py\u001b[0m in \u001b[0;36m__getitem__\u001b[1;34m(self, key)\u001b[0m\n\u001b[0;32m   3022\u001b[0m             \u001b[1;32mif\u001b[0m \u001b[0mself\u001b[0m\u001b[1;33m.\u001b[0m\u001b[0mcolumns\u001b[0m\u001b[1;33m.\u001b[0m\u001b[0mnlevels\u001b[0m \u001b[1;33m>\u001b[0m \u001b[1;36m1\u001b[0m\u001b[1;33m:\u001b[0m\u001b[1;33m\u001b[0m\u001b[1;33m\u001b[0m\u001b[0m\n\u001b[0;32m   3023\u001b[0m                 \u001b[1;32mreturn\u001b[0m \u001b[0mself\u001b[0m\u001b[1;33m.\u001b[0m\u001b[0m_getitem_multilevel\u001b[0m\u001b[1;33m(\u001b[0m\u001b[0mkey\u001b[0m\u001b[1;33m)\u001b[0m\u001b[1;33m\u001b[0m\u001b[1;33m\u001b[0m\u001b[0m\n\u001b[1;32m-> 3024\u001b[1;33m             \u001b[0mindexer\u001b[0m \u001b[1;33m=\u001b[0m \u001b[0mself\u001b[0m\u001b[1;33m.\u001b[0m\u001b[0mcolumns\u001b[0m\u001b[1;33m.\u001b[0m\u001b[0mget_loc\u001b[0m\u001b[1;33m(\u001b[0m\u001b[0mkey\u001b[0m\u001b[1;33m)\u001b[0m\u001b[1;33m\u001b[0m\u001b[1;33m\u001b[0m\u001b[0m\n\u001b[0m\u001b[0;32m   3025\u001b[0m             \u001b[1;32mif\u001b[0m \u001b[0mis_integer\u001b[0m\u001b[1;33m(\u001b[0m\u001b[0mindexer\u001b[0m\u001b[1;33m)\u001b[0m\u001b[1;33m:\u001b[0m\u001b[1;33m\u001b[0m\u001b[1;33m\u001b[0m\u001b[0m\n\u001b[0;32m   3026\u001b[0m                 \u001b[0mindexer\u001b[0m \u001b[1;33m=\u001b[0m \u001b[1;33m[\u001b[0m\u001b[0mindexer\u001b[0m\u001b[1;33m]\u001b[0m\u001b[1;33m\u001b[0m\u001b[1;33m\u001b[0m\u001b[0m\n",
      "\u001b[1;32m~\\anaconda3\\lib\\site-packages\\pandas\\core\\indexes\\base.py\u001b[0m in \u001b[0;36mget_loc\u001b[1;34m(self, key, method, tolerance)\u001b[0m\n\u001b[0;32m   3080\u001b[0m                 \u001b[1;32mreturn\u001b[0m \u001b[0mself\u001b[0m\u001b[1;33m.\u001b[0m\u001b[0m_engine\u001b[0m\u001b[1;33m.\u001b[0m\u001b[0mget_loc\u001b[0m\u001b[1;33m(\u001b[0m\u001b[0mcasted_key\u001b[0m\u001b[1;33m)\u001b[0m\u001b[1;33m\u001b[0m\u001b[1;33m\u001b[0m\u001b[0m\n\u001b[0;32m   3081\u001b[0m             \u001b[1;32mexcept\u001b[0m \u001b[0mKeyError\u001b[0m \u001b[1;32mas\u001b[0m \u001b[0merr\u001b[0m\u001b[1;33m:\u001b[0m\u001b[1;33m\u001b[0m\u001b[1;33m\u001b[0m\u001b[0m\n\u001b[1;32m-> 3082\u001b[1;33m                 \u001b[1;32mraise\u001b[0m \u001b[0mKeyError\u001b[0m\u001b[1;33m(\u001b[0m\u001b[0mkey\u001b[0m\u001b[1;33m)\u001b[0m \u001b[1;32mfrom\u001b[0m \u001b[0merr\u001b[0m\u001b[1;33m\u001b[0m\u001b[1;33m\u001b[0m\u001b[0m\n\u001b[0m\u001b[0;32m   3083\u001b[0m \u001b[1;33m\u001b[0m\u001b[0m\n\u001b[0;32m   3084\u001b[0m         \u001b[1;32mif\u001b[0m \u001b[0mtolerance\u001b[0m \u001b[1;32mis\u001b[0m \u001b[1;32mnot\u001b[0m \u001b[1;32mNone\u001b[0m\u001b[1;33m:\u001b[0m\u001b[1;33m\u001b[0m\u001b[1;33m\u001b[0m\u001b[0m\n",
      "\u001b[1;31mKeyError\u001b[0m: 'runs=0'"
     ]
    }
   ],
   "source": [
    "ball_data['runs=0'].value_counts()"
   ]
  },
  {
   "cell_type": "code",
   "execution_count": 32,
   "id": "45d7ea06",
   "metadata": {},
   "outputs": [
    {
     "data": {
      "text/html": [
       "<div>\n",
       "<style scoped>\n",
       "    .dataframe tbody tr th:only-of-type {\n",
       "        vertical-align: middle;\n",
       "    }\n",
       "\n",
       "    .dataframe tbody tr th {\n",
       "        vertical-align: top;\n",
       "    }\n",
       "\n",
       "    .dataframe thead th {\n",
       "        text-align: right;\n",
       "    }\n",
       "</style>\n",
       "<table border=\"1\" class=\"dataframe\">\n",
       "  <thead>\n",
       "    <tr style=\"text-align: right;\">\n",
       "      <th></th>\n",
       "      <th>season</th>\n",
       "      <th>inning</th>\n",
       "      <th>over</th>\n",
       "      <th>ball</th>\n",
       "      <th>batsman</th>\n",
       "      <th>non_striker</th>\n",
       "      <th>bowler</th>\n",
       "      <th>batsman_runs</th>\n",
       "      <th>extra_runs</th>\n",
       "      <th>total_runs</th>\n",
       "      <th>non_boundary</th>\n",
       "      <th>is_wicket</th>\n",
       "      <th>dismissal_kind</th>\n",
       "      <th>player_dismissed</th>\n",
       "      <th>fielder</th>\n",
       "      <th>extras_type</th>\n",
       "      <th>batting_team</th>\n",
       "      <th>bowling_team</th>\n",
       "    </tr>\n",
       "  </thead>\n",
       "  <tbody>\n",
       "    <tr>\n",
       "      <th>0</th>\n",
       "      <td>2008</td>\n",
       "      <td>1</td>\n",
       "      <td>6</td>\n",
       "      <td>5</td>\n",
       "      <td>RT Ponting</td>\n",
       "      <td>BB McCullum</td>\n",
       "      <td>AA Noffke</td>\n",
       "      <td>1</td>\n",
       "      <td>0</td>\n",
       "      <td>1</td>\n",
       "      <td>0</td>\n",
       "      <td>0</td>\n",
       "      <td>NaN</td>\n",
       "      <td>NaN</td>\n",
       "      <td>NaN</td>\n",
       "      <td>NaN</td>\n",
       "      <td>Kolkata Knight Riders</td>\n",
       "      <td>Royal Challengers Bangalore</td>\n",
       "    </tr>\n",
       "    <tr>\n",
       "      <th>1</th>\n",
       "      <td>2008</td>\n",
       "      <td>1</td>\n",
       "      <td>6</td>\n",
       "      <td>6</td>\n",
       "      <td>BB McCullum</td>\n",
       "      <td>RT Ponting</td>\n",
       "      <td>AA Noffke</td>\n",
       "      <td>1</td>\n",
       "      <td>0</td>\n",
       "      <td>1</td>\n",
       "      <td>0</td>\n",
       "      <td>0</td>\n",
       "      <td>NaN</td>\n",
       "      <td>NaN</td>\n",
       "      <td>NaN</td>\n",
       "      <td>NaN</td>\n",
       "      <td>Kolkata Knight Riders</td>\n",
       "      <td>Royal Challengers Bangalore</td>\n",
       "    </tr>\n",
       "    <tr>\n",
       "      <th>2</th>\n",
       "      <td>2008</td>\n",
       "      <td>1</td>\n",
       "      <td>7</td>\n",
       "      <td>1</td>\n",
       "      <td>BB McCullum</td>\n",
       "      <td>RT Ponting</td>\n",
       "      <td>Z Khan</td>\n",
       "      <td>0</td>\n",
       "      <td>0</td>\n",
       "      <td>0</td>\n",
       "      <td>0</td>\n",
       "      <td>0</td>\n",
       "      <td>NaN</td>\n",
       "      <td>NaN</td>\n",
       "      <td>NaN</td>\n",
       "      <td>NaN</td>\n",
       "      <td>Kolkata Knight Riders</td>\n",
       "      <td>Royal Challengers Bangalore</td>\n",
       "    </tr>\n",
       "    <tr>\n",
       "      <th>3</th>\n",
       "      <td>2008</td>\n",
       "      <td>1</td>\n",
       "      <td>7</td>\n",
       "      <td>2</td>\n",
       "      <td>BB McCullum</td>\n",
       "      <td>RT Ponting</td>\n",
       "      <td>Z Khan</td>\n",
       "      <td>1</td>\n",
       "      <td>0</td>\n",
       "      <td>1</td>\n",
       "      <td>0</td>\n",
       "      <td>0</td>\n",
       "      <td>NaN</td>\n",
       "      <td>NaN</td>\n",
       "      <td>NaN</td>\n",
       "      <td>NaN</td>\n",
       "      <td>Kolkata Knight Riders</td>\n",
       "      <td>Royal Challengers Bangalore</td>\n",
       "    </tr>\n",
       "    <tr>\n",
       "      <th>4</th>\n",
       "      <td>2008</td>\n",
       "      <td>1</td>\n",
       "      <td>7</td>\n",
       "      <td>3</td>\n",
       "      <td>RT Ponting</td>\n",
       "      <td>BB McCullum</td>\n",
       "      <td>Z Khan</td>\n",
       "      <td>1</td>\n",
       "      <td>0</td>\n",
       "      <td>1</td>\n",
       "      <td>0</td>\n",
       "      <td>0</td>\n",
       "      <td>NaN</td>\n",
       "      <td>NaN</td>\n",
       "      <td>NaN</td>\n",
       "      <td>NaN</td>\n",
       "      <td>Kolkata Knight Riders</td>\n",
       "      <td>Royal Challengers Bangalore</td>\n",
       "    </tr>\n",
       "  </tbody>\n",
       "</table>\n",
       "</div>"
      ],
      "text/plain": [
       "   season  inning  over  ball      batsman  non_striker     bowler  \\\n",
       "0    2008       1     6     5   RT Ponting  BB McCullum  AA Noffke   \n",
       "1    2008       1     6     6  BB McCullum   RT Ponting  AA Noffke   \n",
       "2    2008       1     7     1  BB McCullum   RT Ponting     Z Khan   \n",
       "3    2008       1     7     2  BB McCullum   RT Ponting     Z Khan   \n",
       "4    2008       1     7     3   RT Ponting  BB McCullum     Z Khan   \n",
       "\n",
       "   batsman_runs  extra_runs  total_runs  non_boundary  is_wicket  \\\n",
       "0             1           0           1             0          0   \n",
       "1             1           0           1             0          0   \n",
       "2             0           0           0             0          0   \n",
       "3             1           0           1             0          0   \n",
       "4             1           0           1             0          0   \n",
       "\n",
       "  dismissal_kind player_dismissed fielder extras_type           batting_team  \\\n",
       "0            NaN              NaN     NaN         NaN  Kolkata Knight Riders   \n",
       "1            NaN              NaN     NaN         NaN  Kolkata Knight Riders   \n",
       "2            NaN              NaN     NaN         NaN  Kolkata Knight Riders   \n",
       "3            NaN              NaN     NaN         NaN  Kolkata Knight Riders   \n",
       "4            NaN              NaN     NaN         NaN  Kolkata Knight Riders   \n",
       "\n",
       "                  bowling_team  \n",
       "0  Royal Challengers Bangalore  \n",
       "1  Royal Challengers Bangalore  \n",
       "2  Royal Challengers Bangalore  \n",
       "3  Royal Challengers Bangalore  \n",
       "4  Royal Challengers Bangalore  "
      ]
     },
     "execution_count": 32,
     "metadata": {},
     "output_type": "execute_result"
    }
   ],
   "source": [
    "season_data=match_data[['id','season']].merge(ball_data, left_on = 'id' , right_on = 'id', how = 'left').drop('id', axis = 1)\n",
    "season_data.head()"
   ]
  },
  {
   "cell_type": "code",
   "execution_count": 34,
   "id": "cb0496cb",
   "metadata": {},
   "outputs": [
    {
     "data": {
      "image/png": "[encoded data removed]",
      "text/plain": [
       "<Figure size 432x288 with 1 Axes>"
      ]
     },
     "metadata": {
      "needs_background": "light"
     },
     "output_type": "display_data"
    }
   ],
   "source": [
    "season=season_data.groupby(['season'])['total_runs'].sum().reset_index()\n",
    "p=season.set_index('season')\n",
    "ax = plt.axes()\n",
    "ax.set(facecolor = \"grey\")\n",
    "sns.lineplot(data=p,palette=\"magma\")\n",
    "plt.title('total runs in eacg season',fontsize=12,fontweight=\"bold\")\n",
    "plt.show()"
   ]
  },
  {
   "cell_type": "code",
   "execution_count": 40,
   "id": "2a025de7",
   "metadata": {},
   "outputs": [
    {
     "data": {
      "text/html": [
       "<div>\n",
       "<style scoped>\n",
       "    .dataframe tbody tr th:only-of-type {\n",
       "        vertical-align: middle;\n",
       "    }\n",
       "\n",
       "    .dataframe tbody tr th {\n",
       "        vertical-align: top;\n",
       "    }\n",
       "\n",
       "    .dataframe thead th {\n",
       "        text-align: right;\n",
       "    }\n",
       "</style>\n",
       "<table border=\"1\" class=\"dataframe\">\n",
       "  <thead>\n",
       "    <tr style=\"text-align: right;\">\n",
       "      <th></th>\n",
       "      <th>matches</th>\n",
       "      <th>total_runs</th>\n",
       "      <th>Runs scored per match</th>\n",
       "    </tr>\n",
       "    <tr>\n",
       "      <th>season</th>\n",
       "      <th></th>\n",
       "      <th></th>\n",
       "      <th></th>\n",
       "    </tr>\n",
       "  </thead>\n",
       "  <tbody>\n",
       "    <tr>\n",
       "      <th>2008</th>\n",
       "      <td>58</td>\n",
       "      <td>17937</td>\n",
       "      <td>309.258621</td>\n",
       "    </tr>\n",
       "    <tr>\n",
       "      <th>2009</th>\n",
       "      <td>57</td>\n",
       "      <td>16320</td>\n",
       "      <td>286.315789</td>\n",
       "    </tr>\n",
       "    <tr>\n",
       "      <th>2010</th>\n",
       "      <td>60</td>\n",
       "      <td>18864</td>\n",
       "      <td>314.400000</td>\n",
       "    </tr>\n",
       "    <tr>\n",
       "      <th>2011</th>\n",
       "      <td>73</td>\n",
       "      <td>21154</td>\n",
       "      <td>289.780822</td>\n",
       "    </tr>\n",
       "    <tr>\n",
       "      <th>2012</th>\n",
       "      <td>74</td>\n",
       "      <td>22453</td>\n",
       "      <td>303.418919</td>\n",
       "    </tr>\n",
       "    <tr>\n",
       "      <th>2013</th>\n",
       "      <td>76</td>\n",
       "      <td>22541</td>\n",
       "      <td>296.592105</td>\n",
       "    </tr>\n",
       "    <tr>\n",
       "      <th>2014</th>\n",
       "      <td>60</td>\n",
       "      <td>18909</td>\n",
       "      <td>315.150000</td>\n",
       "    </tr>\n",
       "    <tr>\n",
       "      <th>2015</th>\n",
       "      <td>59</td>\n",
       "      <td>18332</td>\n",
       "      <td>310.711864</td>\n",
       "    </tr>\n",
       "    <tr>\n",
       "      <th>2016</th>\n",
       "      <td>60</td>\n",
       "      <td>18862</td>\n",
       "      <td>314.366667</td>\n",
       "    </tr>\n",
       "    <tr>\n",
       "      <th>2017</th>\n",
       "      <td>59</td>\n",
       "      <td>18769</td>\n",
       "      <td>318.118644</td>\n",
       "    </tr>\n",
       "    <tr>\n",
       "      <th>2018</th>\n",
       "      <td>60</td>\n",
       "      <td>19901</td>\n",
       "      <td>331.683333</td>\n",
       "    </tr>\n",
       "    <tr>\n",
       "      <th>2019</th>\n",
       "      <td>60</td>\n",
       "      <td>19400</td>\n",
       "      <td>323.333333</td>\n",
       "    </tr>\n",
       "    <tr>\n",
       "      <th>2020</th>\n",
       "      <td>60</td>\n",
       "      <td>19352</td>\n",
       "      <td>322.533333</td>\n",
       "    </tr>\n",
       "  </tbody>\n",
       "</table>\n",
       "</div>"
      ],
      "text/plain": [
       "        matches  total_runs  Runs scored per match\n",
       "season                                            \n",
       "2008         58       17937             309.258621\n",
       "2009         57       16320             286.315789\n",
       "2010         60       18864             314.400000\n",
       "2011         73       21154             289.780822\n",
       "2012         74       22453             303.418919\n",
       "2013         76       22541             296.592105\n",
       "2014         60       18909             315.150000\n",
       "2015         59       18332             310.711864\n",
       "2016         60       18862             314.366667\n",
       "2017         59       18769             318.118644\n",
       "2018         60       19901             331.683333\n",
       "2019         60       19400             323.333333\n",
       "2020         60       19352             322.533333"
      ]
     },
     "execution_count": 40,
     "metadata": {},
     "output_type": "execute_result"
    }
   ],
   "source": [
    "runs_per_season=pd.concat([match_per_season,season.iloc[:,1]],axis=1)\n",
    "runs_per_season['Runs scored per match']=runs_per_season['total_runs']/runs_per_season['matches']\n",
    "runs_per_season.set_index('season',inplace=True)\n",
    "runs_per_season"
   ]
  },
  {
   "cell_type": "code",
   "execution_count": 46,
   "id": "ba019517",
   "metadata": {},
   "outputs": [
    {
     "data": {
      "image/png": "[encoded data removed]",
      "text/plain": [
       "<Figure size 432x288 with 1 Axes>"
      ]
     },
     "metadata": {},
     "output_type": "display_data"
    }
   ],
   "source": [
    "toss=match_data['toss_winner'].value_counts()\n",
    "ax = plt.axes()\n",
    "ax.set(facecolor = \"grey\")\n",
    "sns.set(rc={\"figure.figsize\":(15,10)},style='darkgrid')\n",
    "ax.set_title('no. of tosses won by eah team',fontsize=15,fontweight=\"bold\")\n",
    "sns.barplot(y=toss.index, x=toss, orient='h',palette=\"icefire\",saturation=1)\n",
    "plt.xlabel('# of tosses won')\n",
    "plt.ylabel('teams')\n",
    "plt.show()"
   ]
  },
  {
   "cell_type": "code",
   "execution_count": 50,
   "id": "4c8abc47",
   "metadata": {},
   "outputs": [
    {
     "data": {
      "image/png": "[encoded data removed]",
      "text/plain": [
       "<Figure size 1080x720 with 1 Axes>"
      ]
     },
     "metadata": {},
     "output_type": "display_data"
    }
   ],
   "source": [
    "ax = plt.axes()\n",
    "ax.set(facecolor = \"grey\")\n",
    "sns.countplot(x='season', hue='toss_decision', data=match_data,palette=\"magma\")\n",
    "plt.xticks(rotation=90,fontsize=10)\n",
    "plt.yticks(fontsize=15)\n",
    "plt.xlabel('\\n season',fontsize=15)\n",
    "plt.ylabel('count',fontsize=15)\n",
    "plt.title('toss decision across seasons',fontsize=12,fontweight=\"bold\")\n",
    "plt.show()"
   ]
  },
  {
   "cell_type": "code",
   "execution_count": 51,
   "id": "d17da9ef",
   "metadata": {},
   "outputs": [
    {
     "data": {
      "text/plain": [
       "wickets    435\n",
       "runs       364\n",
       "tie         13\n",
       "Name: result, dtype: int64"
      ]
     },
     "execution_count": 51,
     "metadata": {},
     "output_type": "execute_result"
    }
   ],
   "source": [
    "match_data['result'].value_counts()"
   ]
  },
  {
   "cell_type": "code",
   "execution_count": 52,
   "id": "33546924",
   "metadata": {},
   "outputs": [
    {
     "data": {
      "text/plain": [
       "0    Eden Gardens\n",
       "dtype: object"
      ]
     },
     "execution_count": 52,
     "metadata": {},
     "output_type": "execute_result"
    }
   ],
   "source": [
    "match_data.venue[match_data.result!='run'].mode()"
   ]
  },
  {
   "cell_type": "code",
   "execution_count": 54,
   "id": "b9c1aecb",
   "metadata": {},
   "outputs": [
    {
     "data": {
      "text/plain": [
       "0    Feroz Shah Kotla\n",
       "dtype: object"
      ]
     },
     "execution_count": 54,
     "metadata": {},
     "output_type": "execute_result"
    }
   ],
   "source": [
    "match_data.venue[match_data.result!='wickets'].mode()"
   ]
  },
  {
   "cell_type": "code",
   "execution_count": 57,
   "id": "e941fbe1",
   "metadata": {},
   "outputs": [
    {
     "data": {
      "text/plain": [
       "0    M Chinnaswamy Stadium\n",
       "dtype: object"
      ]
     },
     "execution_count": 57,
     "metadata": {},
     "output_type": "execute_result"
    }
   ],
   "source": [
    "match_data.venue[match_data.toss_winner=='Royal Challengers Bangalore'][match_data.winner=='Royal Challengers Bangalore'].mode()"
   ]
  },
  {
   "cell_type": "code",
   "execution_count": 58,
   "id": "844f41cd",
   "metadata": {},
   "outputs": [
    {
     "data": {
      "text/plain": [
       "0    Kolkata Knight Riders\n",
       "1           Mumbai Indians\n",
       "dtype: object"
      ]
     },
     "execution_count": 58,
     "metadata": {},
     "output_type": "execute_result"
    }
   ],
   "source": [
    "match_data.winner[match_data.result!='runs'].mode()"
   ]
  },
  {
   "cell_type": "code",
   "execution_count": 61,
   "id": "1560ee75",
   "metadata": {},
   "outputs": [
    {
     "data": {
      "text/plain": [
       "0    Mumbai Indians\n",
       "dtype: object"
      ]
     },
     "execution_count": 61,
     "metadata": {},
     "output_type": "execute_result"
    }
   ],
   "source": [
    "match_data.winner[match_data.result!='wickets'].mode()"
   ]
  },
  {
   "cell_type": "code",
   "execution_count": 65,
   "id": "5d69bfeb",
   "metadata": {},
   "outputs": [
    {
     "name": "stderr",
     "output_type": "stream",
     "text": [
      "C:\\Users\\shwet\\anaconda3\\lib\\site-packages\\seaborn\\_decorators.py:36: FutureWarning: Pass the following variable as a keyword arg: x. From version 0.12, the only valid positional argument will be `data`, and passing other arguments without an explicit keyword will result in an error or misinterpretation.\n",
      "  warnings.warn(\n"
     ]
    },
    {
     "data": {
      "image/png": "[encoded data removed]",
      "text/plain": [
       "<Figure size 720x360 with 1 Axes>"
      ]
     },
     "metadata": {},
     "output_type": "display_data"
    }
   ],
   "source": [
    "toss = match_data['toss_winner'] == match_data['winner']\n",
    "plt.figure(figsize=(10,5))\n",
    "sns.countplot(toss)\n",
    "plt.show()"
   ]
  },
  {
   "cell_type": "code",
   "execution_count": 67,
   "id": "dfdbf314",
   "metadata": {},
   "outputs": [
    {
     "name": "stderr",
     "output_type": "stream",
     "text": [
      "C:\\Users\\shwet\\anaconda3\\lib\\site-packages\\seaborn\\_decorators.py:36: FutureWarning: Pass the following variable as a keyword arg: x. From version 0.12, the only valid positional argument will be `data`, and passing other arguments without an explicit keyword will result in an error or misinterpretation.\n",
      "  warnings.warn(\n"
     ]
    },
    {
     "data": {
      "image/png": "[encoded data removed]",
      "text/plain": [
       "<Figure size 864x288 with 1 Axes>"
      ]
     },
     "metadata": {},
     "output_type": "display_data"
    }
   ],
   "source": [
    "plt.figure(figsize=(12,4))\n",
    "sns.countplot(match_data.toss_decision[match_data.toss_winner == match_data.winner])\n",
    "plt.show()"
   ]
  },
  {
   "cell_type": "code",
   "execution_count": 68,
   "id": "acfb781c",
   "metadata": {},
   "outputs": [
    {
     "data": {
      "text/html": [
       "<div>\n",
       "<style scoped>\n",
       "    .dataframe tbody tr th:only-of-type {\n",
       "        vertical-align: middle;\n",
       "    }\n",
       "\n",
       "    .dataframe tbody tr th {\n",
       "        vertical-align: top;\n",
       "    }\n",
       "\n",
       "    .dataframe thead th {\n",
       "        text-align: right;\n",
       "    }\n",
       "</style>\n",
       "<table border=\"1\" class=\"dataframe\">\n",
       "  <thead>\n",
       "    <tr style=\"text-align: right;\">\n",
       "      <th></th>\n",
       "      <th>id</th>\n",
       "      <th>inning</th>\n",
       "      <th>over</th>\n",
       "      <th>ball</th>\n",
       "      <th>batsman</th>\n",
       "      <th>non_striker</th>\n",
       "      <th>bowler</th>\n",
       "      <th>batsman_runs</th>\n",
       "      <th>extra_runs</th>\n",
       "      <th>total_runs</th>\n",
       "      <th>non_boundary</th>\n",
       "      <th>is_wicket</th>\n",
       "      <th>dismissal_kind</th>\n",
       "      <th>player_dismissed</th>\n",
       "      <th>fielder</th>\n",
       "      <th>extras_type</th>\n",
       "      <th>batting_team</th>\n",
       "      <th>bowling_team</th>\n",
       "    </tr>\n",
       "  </thead>\n",
       "  <tbody>\n",
       "    <tr>\n",
       "      <th>211</th>\n",
       "      <td>335982</td>\n",
       "      <td>2</td>\n",
       "      <td>1</td>\n",
       "      <td>2</td>\n",
       "      <td>V Kohli</td>\n",
       "      <td>W Jaffer</td>\n",
       "      <td>I Sharma</td>\n",
       "      <td>0</td>\n",
       "      <td>0</td>\n",
       "      <td>0</td>\n",
       "      <td>0</td>\n",
       "      <td>0</td>\n",
       "      <td>NaN</td>\n",
       "      <td>NaN</td>\n",
       "      <td>NaN</td>\n",
       "      <td>NaN</td>\n",
       "      <td>Royal Challengers Bangalore</td>\n",
       "      <td>Kolkata Knight Riders</td>\n",
       "    </tr>\n",
       "    <tr>\n",
       "      <th>212</th>\n",
       "      <td>335982</td>\n",
       "      <td>2</td>\n",
       "      <td>1</td>\n",
       "      <td>3</td>\n",
       "      <td>V Kohli</td>\n",
       "      <td>W Jaffer</td>\n",
       "      <td>I Sharma</td>\n",
       "      <td>0</td>\n",
       "      <td>4</td>\n",
       "      <td>4</td>\n",
       "      <td>0</td>\n",
       "      <td>0</td>\n",
       "      <td>NaN</td>\n",
       "      <td>NaN</td>\n",
       "      <td>NaN</td>\n",
       "      <td>legbyes</td>\n",
       "      <td>Royal Challengers Bangalore</td>\n",
       "      <td>Kolkata Knight Riders</td>\n",
       "    </tr>\n",
       "    <tr>\n",
       "      <th>213</th>\n",
       "      <td>335982</td>\n",
       "      <td>2</td>\n",
       "      <td>1</td>\n",
       "      <td>4</td>\n",
       "      <td>V Kohli</td>\n",
       "      <td>W Jaffer</td>\n",
       "      <td>I Sharma</td>\n",
       "      <td>1</td>\n",
       "      <td>0</td>\n",
       "      <td>1</td>\n",
       "      <td>0</td>\n",
       "      <td>0</td>\n",
       "      <td>NaN</td>\n",
       "      <td>NaN</td>\n",
       "      <td>NaN</td>\n",
       "      <td>NaN</td>\n",
       "      <td>Royal Challengers Bangalore</td>\n",
       "      <td>Kolkata Knight Riders</td>\n",
       "    </tr>\n",
       "    <tr>\n",
       "      <th>216</th>\n",
       "      <td>335982</td>\n",
       "      <td>2</td>\n",
       "      <td>2</td>\n",
       "      <td>1</td>\n",
       "      <td>V Kohli</td>\n",
       "      <td>W Jaffer</td>\n",
       "      <td>AB Dinda</td>\n",
       "      <td>0</td>\n",
       "      <td>0</td>\n",
       "      <td>0</td>\n",
       "      <td>0</td>\n",
       "      <td>0</td>\n",
       "      <td>NaN</td>\n",
       "      <td>NaN</td>\n",
       "      <td>NaN</td>\n",
       "      <td>NaN</td>\n",
       "      <td>Royal Challengers Bangalore</td>\n",
       "      <td>Kolkata Knight Riders</td>\n",
       "    </tr>\n",
       "    <tr>\n",
       "      <th>217</th>\n",
       "      <td>335982</td>\n",
       "      <td>2</td>\n",
       "      <td>2</td>\n",
       "      <td>2</td>\n",
       "      <td>V Kohli</td>\n",
       "      <td>W Jaffer</td>\n",
       "      <td>AB Dinda</td>\n",
       "      <td>0</td>\n",
       "      <td>0</td>\n",
       "      <td>0</td>\n",
       "      <td>0</td>\n",
       "      <td>1</td>\n",
       "      <td>bowled</td>\n",
       "      <td>V Kohli</td>\n",
       "      <td>NaN</td>\n",
       "      <td>NaN</td>\n",
       "      <td>Royal Challengers Bangalore</td>\n",
       "      <td>Kolkata Knight Riders</td>\n",
       "    </tr>\n",
       "  </tbody>\n",
       "</table>\n",
       "</div>"
      ],
      "text/plain": [
       "         id  inning  over  ball  batsman non_striker    bowler  batsman_runs  \\\n",
       "211  335982       2     1     2  V Kohli    W Jaffer  I Sharma             0   \n",
       "212  335982       2     1     3  V Kohli    W Jaffer  I Sharma             0   \n",
       "213  335982       2     1     4  V Kohli    W Jaffer  I Sharma             1   \n",
       "216  335982       2     2     1  V Kohli    W Jaffer  AB Dinda             0   \n",
       "217  335982       2     2     2  V Kohli    W Jaffer  AB Dinda             0   \n",
       "\n",
       "     extra_runs  total_runs  non_boundary  is_wicket dismissal_kind  \\\n",
       "211           0           0             0          0            NaN   \n",
       "212           4           4             0          0            NaN   \n",
       "213           0           1             0          0            NaN   \n",
       "216           0           0             0          0            NaN   \n",
       "217           0           0             0          1         bowled   \n",
       "\n",
       "    player_dismissed fielder extras_type                 batting_team  \\\n",
       "211              NaN     NaN         NaN  Royal Challengers Bangalore   \n",
       "212              NaN     NaN     legbyes  Royal Challengers Bangalore   \n",
       "213              NaN     NaN         NaN  Royal Challengers Bangalore   \n",
       "216              NaN     NaN         NaN  Royal Challengers Bangalore   \n",
       "217          V Kohli     NaN         NaN  Royal Challengers Bangalore   \n",
       "\n",
       "              bowling_team  \n",
       "211  Kolkata Knight Riders  \n",
       "212  Kolkata Knight Riders  \n",
       "213  Kolkata Knight Riders  \n",
       "216  Kolkata Knight Riders  \n",
       "217  Kolkata Knight Riders  "
      ]
     },
     "execution_count": 68,
     "metadata": {},
     "output_type": "execute_result"
    }
   ],
   "source": [
    "player = (ball_data['batsman'] == 'V Kohli')\n",
    "df_Kohli=ball_data[player]\n",
    "df_Kohli.head()"
   ]
  },
  {
   "cell_type": "code",
   "execution_count": 76,
   "id": "afe3a2f5",
   "metadata": {},
   "outputs": [
    {
     "ename": "NameError",
     "evalue": "name 'plt_title' is not defined",
     "output_type": "error",
     "traceback": [
      "\u001b[1;31m---------------------------------------------------------------------------\u001b[0m",
      "\u001b[1;31mNameError\u001b[0m                                 Traceback (most recent call last)",
      "\u001b[1;32m<ipython-input-76-4978b440284c>\u001b[0m in \u001b[0;36m<module>\u001b[1;34m\u001b[0m\n\u001b[0;32m      1\u001b[0m \u001b[0mdf_Kohli\u001b[0m\u001b[1;33m[\u001b[0m\u001b[1;34m'dismissal_kind'\u001b[0m\u001b[1;33m]\u001b[0m\u001b[1;33m.\u001b[0m\u001b[0mvalue_counts\u001b[0m\u001b[1;33m(\u001b[0m\u001b[1;33m)\u001b[0m\u001b[1;33m.\u001b[0m\u001b[0mplot\u001b[0m\u001b[1;33m.\u001b[0m\u001b[0mpie\u001b[0m\u001b[1;33m(\u001b[0m\u001b[0mautopct\u001b[0m\u001b[1;33m=\u001b[0m\u001b[1;34m'%1.1f%%'\u001b[0m\u001b[1;33m,\u001b[0m\u001b[0mshadow\u001b[0m\u001b[1;33m=\u001b[0m\u001b[1;32mTrue\u001b[0m\u001b[1;33m,\u001b[0m\u001b[0mrotatelabels\u001b[0m\u001b[1;33m=\u001b[0m\u001b[1;32mTrue\u001b[0m\u001b[1;33m)\u001b[0m\u001b[1;33m\u001b[0m\u001b[1;33m\u001b[0m\u001b[0m\n\u001b[1;32m----> 2\u001b[1;33m \u001b[0mplt_title\u001b[0m\u001b[1;33m(\u001b[0m\u001b[1;34m\"dismissal kind\"\u001b[0m\u001b[1;33m,\u001b[0m\u001b[0mfontweight\u001b[0m\u001b[1;33m=\u001b[0m\u001b[1;34m\"bold\"\u001b[0m\u001b[1;33m,\u001b[0m\u001b[0mfontsize\u001b[0m\u001b[1;33m=\u001b[0m\u001b[1;36m15\u001b[0m\u001b[1;33m)\u001b[0m\u001b[1;33m\u001b[0m\u001b[1;33m\u001b[0m\u001b[0m\n\u001b[0m\u001b[0;32m      3\u001b[0m \u001b[0mplt\u001b[0m\u001b[1;33m.\u001b[0m\u001b[0mshow\u001b[0m\u001b[1;33m(\u001b[0m\u001b[1;33m)\u001b[0m\u001b[1;33m\u001b[0m\u001b[1;33m\u001b[0m\u001b[0m\n",
      "\u001b[1;31mNameError\u001b[0m: name 'plt_title' is not defined"
     ]
    },
    {
     "data": {
      "image/png": "[encoded data removed]",
      "text/plain": [
       "<Figure size 1080x720 with 1 Axes>"
      ]
     },
     "metadata": {},
     "output_type": "display_data"
    }
   ],
   "source": [
    "df_Kohli['dismissal_kind'].value_counts().plot.pie(autopct='%1.1f%%',shadow=True,rotatelabels=True)\n",
    "plt_title(\"dismissal kind\",fontweight=\"bold\",fontsize=15)\n",
    "plt.show()"
   ]
  },
  {
   "cell_type": "code",
   "execution_count": 77,
   "id": "ca246101",
   "metadata": {},
   "outputs": [],
   "source": [
    "def count(df_Kohli,runs):\n",
    "    return len(df_Kohli[df_Kohli['batsman_runs']==runs])*runs"
   ]
  },
  {
   "cell_type": "code",
   "execution_count": 78,
   "id": "e18327b9",
   "metadata": {},
   "outputs": [
    {
     "name": "stdout",
     "output_type": "stream",
     "text": [
      "runs scored from 1's : 1919\n",
      "runs scored from 2's : 692\n",
      "runs scored from 3's : 39\n",
      "runs scored from 4's : 2016\n",
      "runs scored from 6's : 1212\n"
     ]
    }
   ],
   "source": [
    "print(\"runs scored from 1's :\",count(df_Kohli,1))\n",
    "print(\"runs scored from 2's :\",count(df_Kohli,2))\n",
    "print(\"runs scored from 3's :\",count(df_Kohli,3))\n",
    "print(\"runs scored from 4's :\",count(df_Kohli,4))\n",
    "print(\"runs scored from 6's :\",count(df_Kohli,6))"
   ]
  },
  {
   "cell_type": "code",
   "execution_count": 79,
   "id": "e21b364f",
   "metadata": {},
   "outputs": [
    {
     "data": {
      "text/html": [
       "<div>\n",
       "<style scoped>\n",
       "    .dataframe tbody tr th:only-of-type {\n",
       "        vertical-align: middle;\n",
       "    }\n",
       "\n",
       "    .dataframe tbody tr th {\n",
       "        vertical-align: top;\n",
       "    }\n",
       "\n",
       "    .dataframe thead th {\n",
       "        text-align: right;\n",
       "    }\n",
       "</style>\n",
       "<table border=\"1\" class=\"dataframe\">\n",
       "  <thead>\n",
       "    <tr style=\"text-align: right;\">\n",
       "      <th></th>\n",
       "      <th>id</th>\n",
       "      <th>city</th>\n",
       "      <th>date</th>\n",
       "      <th>player_of_match</th>\n",
       "      <th>venue</th>\n",
       "      <th>neutral_venue</th>\n",
       "      <th>team1</th>\n",
       "      <th>team2</th>\n",
       "      <th>toss_winner</th>\n",
       "      <th>toss_decision</th>\n",
       "      <th>winner</th>\n",
       "      <th>result</th>\n",
       "      <th>result_margin</th>\n",
       "      <th>eliminator</th>\n",
       "      <th>method</th>\n",
       "      <th>umpire1</th>\n",
       "      <th>umpire2</th>\n",
       "      <th>season</th>\n",
       "    </tr>\n",
       "  </thead>\n",
       "  <tbody>\n",
       "    <tr>\n",
       "      <th>620</th>\n",
       "      <td>1082635</td>\n",
       "      <td>Delhi</td>\n",
       "      <td>06-05-2017</td>\n",
       "      <td>LMP Simmons</td>\n",
       "      <td>Feroz Shah Kotla</td>\n",
       "      <td>0</td>\n",
       "      <td>Delhi Daredevils</td>\n",
       "      <td>Mumbai Indians</td>\n",
       "      <td>Delhi Daredevils</td>\n",
       "      <td>field</td>\n",
       "      <td>Mumbai Indians</td>\n",
       "      <td>runs</td>\n",
       "      <td>146.0</td>\n",
       "      <td>N</td>\n",
       "      <td>NaN</td>\n",
       "      <td>Nitin Menon</td>\n",
       "      <td>CK Nandan</td>\n",
       "      <td>2017</td>\n",
       "    </tr>\n",
       "  </tbody>\n",
       "</table>\n",
       "</div>"
      ],
      "text/plain": [
       "          id   city        date player_of_match             venue  \\\n",
       "620  1082635  Delhi  06-05-2017     LMP Simmons  Feroz Shah Kotla   \n",
       "\n",
       "     neutral_venue             team1           team2       toss_winner  \\\n",
       "620              0  Delhi Daredevils  Mumbai Indians  Delhi Daredevils   \n",
       "\n",
       "    toss_decision          winner result  result_margin eliminator method  \\\n",
       "620         field  Mumbai Indians   runs          146.0          N    NaN   \n",
       "\n",
       "         umpire1    umpire2  season  \n",
       "620  Nitin Menon  CK Nandan    2017  "
      ]
     },
     "execution_count": 79,
     "metadata": {},
     "output_type": "execute_result"
    }
   ],
   "source": [
    "match_data[match_data['result_margin']==match_data['result_margin'].max()]"
   ]
  },
  {
   "cell_type": "code",
   "execution_count": 80,
   "id": "630d3ce5",
   "metadata": {},
   "outputs": [
    {
     "data": {
      "text/html": [
       "<div>\n",
       "<style scoped>\n",
       "    .dataframe tbody tr th:only-of-type {\n",
       "        vertical-align: middle;\n",
       "    }\n",
       "\n",
       "    .dataframe tbody tr th {\n",
       "        vertical-align: top;\n",
       "    }\n",
       "\n",
       "    .dataframe thead th {\n",
       "        text-align: right;\n",
       "    }\n",
       "</style>\n",
       "<table border=\"1\" class=\"dataframe\">\n",
       "  <thead>\n",
       "    <tr style=\"text-align: right;\">\n",
       "      <th></th>\n",
       "      <th>batsman</th>\n",
       "      <th>runs</th>\n",
       "    </tr>\n",
       "  </thead>\n",
       "  <tbody>\n",
       "    <tr>\n",
       "      <th>0</th>\n",
       "      <td>V Kohli</td>\n",
       "      <td>5878</td>\n",
       "    </tr>\n",
       "    <tr>\n",
       "      <th>1</th>\n",
       "      <td>SK Raina</td>\n",
       "      <td>5368</td>\n",
       "    </tr>\n",
       "    <tr>\n",
       "      <th>2</th>\n",
       "      <td>DA Warner</td>\n",
       "      <td>5254</td>\n",
       "    </tr>\n",
       "    <tr>\n",
       "      <th>3</th>\n",
       "      <td>RG Sharma</td>\n",
       "      <td>5230</td>\n",
       "    </tr>\n",
       "    <tr>\n",
       "      <th>4</th>\n",
       "      <td>S Dhawan</td>\n",
       "      <td>5197</td>\n",
       "    </tr>\n",
       "    <tr>\n",
       "      <th>5</th>\n",
       "      <td>AB de Villiers</td>\n",
       "      <td>4849</td>\n",
       "    </tr>\n",
       "    <tr>\n",
       "      <th>6</th>\n",
       "      <td>CH Gayle</td>\n",
       "      <td>4772</td>\n",
       "    </tr>\n",
       "    <tr>\n",
       "      <th>7</th>\n",
       "      <td>MS Dhoni</td>\n",
       "      <td>4632</td>\n",
       "    </tr>\n",
       "    <tr>\n",
       "      <th>8</th>\n",
       "      <td>RV Uthappa</td>\n",
       "      <td>4607</td>\n",
       "    </tr>\n",
       "    <tr>\n",
       "      <th>9</th>\n",
       "      <td>G Gambhir</td>\n",
       "      <td>4217</td>\n",
       "    </tr>\n",
       "  </tbody>\n",
       "</table>\n",
       "</div>"
      ],
      "text/plain": [
       "          batsman  runs\n",
       "0         V Kohli  5878\n",
       "1        SK Raina  5368\n",
       "2       DA Warner  5254\n",
       "3       RG Sharma  5230\n",
       "4        S Dhawan  5197\n",
       "5  AB de Villiers  4849\n",
       "6        CH Gayle  4772\n",
       "7        MS Dhoni  4632\n",
       "8      RV Uthappa  4607\n",
       "9       G Gambhir  4217"
      ]
     },
     "execution_count": 80,
     "metadata": {},
     "output_type": "execute_result"
    }
   ],
   "source": [
    "runs = ball_data.groupby(['batsman'])['batsman_runs'].sum().reset_index()\n",
    "runs.columns = ['batsman','runs']\n",
    "y = runs.sort_values(by='runs',ascending = False).head(10).reset_index().drop('index', axis=1)\n",
    "y"
   ]
  },
  {
   "cell_type": "code",
   "execution_count": 81,
   "id": "2c4f1e53",
   "metadata": {},
   "outputs": [
    {
     "data": {
      "text/plain": [
       "Text(0.5, 1.0, 'top 10 run scorers in ipl')"
      ]
     },
     "execution_count": 81,
     "metadata": {},
     "output_type": "execute_result"
    },
    {
     "data": {
      "image/png": "[encoded data removed]",
      "text/plain": [
       "<Figure size 1080x720 with 1 Axes>"
      ]
     },
     "metadata": {},
     "output_type": "display_data"
    }
   ],
   "source": [
    "ax = plt.axes()\n",
    "ax.set(facecolor = \"grey\")\n",
    "sns.barplot(x=y['batsman'],y=y['runs'],palette='rocket',saturation=1)\n",
    "plt.xticks(rotation=90,fontsize=15)\n",
    "plt.yticks(fontsize=10)\n",
    "plt.xlabel('\\n player',fontsize=15)\n",
    "plt.ylabel('\\n total runs',fontsize=15)\n",
    "plt.title('top 10 run scorers in ipl',fontsize=15,fontweight=\"bold\")"
   ]
  },
  {
   "cell_type": "code",
   "execution_count": 82,
   "id": "e82396d0",
   "metadata": {},
   "outputs": [
    {
     "data": {
      "text/plain": [
       "Text(0.5, 1.0, 'highest MOM award winners')"
      ]
     },
     "execution_count": 82,
     "metadata": {},
     "output_type": "execute_result"
    },
    {
     "data": {
      "image/png": "[encoded data removed]",
      "text/plain": [
       "<Figure size 1080x720 with 1 Axes>"
      ]
     },
     "metadata": {},
     "output_type": "display_data"
    }
   ],
   "source": [
    "ax = plt.axes()\n",
    "ax.set(facecolor = \"black\")\n",
    "match_data.player_of_match.value_counts()[:10].plot(kind='bar')\n",
    "plt.xlabel('players')\n",
    "plt.ylabel(\"count\")\n",
    "plt.title(\"highest MOM award winners\",fontsize=15,fontweight=\"bold\")"
   ]
  },
  {
   "cell_type": "code",
   "execution_count": null,
   "id": "3d8d8774",
   "metadata": {},
   "outputs": [],
   "source": []
  }
 ],
 "metadata": {
  "kernelspec": {
   "display_name": "Python 3",
   "language": "python",
   "name": "python3"
  },
  "language_info": {
   "codemirror_mode": {
    "name": "ipython",
    "version": 3
   },
   "file_extension": ".py",
   "mimetype": "text/x-python",
   "name": "python",
   "nbconvert_exporter": "python",
   "pygments_lexer": "ipython3",
   "version": "3.8.8"
  }
 },
 "nbformat": 4,
 "nbformat_minor": 5
}
